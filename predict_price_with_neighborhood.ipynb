{
 "cells": [
  {
   "cell_type": "markdown",
   "id": "ce3e7c95",
   "metadata": {},
   "source": [
    "# Predicting Apartment Prices with Neighborhood"
   ]
  },
  {
   "cell_type": "markdown",
   "id": "6f604e07",
   "metadata": {},
   "source": [
    "In this project, we are going to build a model that will predict the prices of apartments in the neighborhoods (city/towns) within Distrito Federal, a state in Mexico city. We are also going to encode categorical data to train a linear model and solve the problem of overfitting using regularization."
   ]
  },
  {
   "cell_type": "code",
   "execution_count": 1,
   "id": "0c047057",
   "metadata": {},
   "outputs": [],
   "source": [
    "import numpy as np\n",
    "import pandas as pd\n",
    "import matplotlib.pyplot as plt\n",
    "import seaborn as sns\n",
    "sns.set()\n",
    "\n",
    "from category_encoders import OneHotEncoder # Used to encode categoricat data\n",
    "from sklearn.linear_model import LinearRegression, Ridge\n",
    "from sklearn.metrics import mean_absolute_error\n",
    "from sklearn.pipeline import Pipeline, make_pipeline\n",
    "from sklearn.utils.validation import check_is_fitted"
   ]
  },
  {
   "cell_type": "markdown",
   "id": "bce2b2bd",
   "metadata": {},
   "source": [
    "## Prepare Data"
   ]
  },
  {
   "cell_type": "markdown",
   "id": "a780eb31",
   "metadata": {},
   "source": [
    "### Import"
   ]
  },
  {
   "cell_type": "code",
   "execution_count": 2,
   "id": "2bdb7df8",
   "metadata": {},
   "outputs": [
    {
     "data": {
      "text/html": [
       "<div>\n",
       "<style scoped>\n",
       "    .dataframe tbody tr th:only-of-type {\n",
       "        vertical-align: middle;\n",
       "    }\n",
       "\n",
       "    .dataframe tbody tr th {\n",
       "        vertical-align: top;\n",
       "    }\n",
       "\n",
       "    .dataframe thead th {\n",
       "        text-align: right;\n",
       "    }\n",
       "</style>\n",
       "<table border=\"1\" class=\"dataframe\">\n",
       "  <thead>\n",
       "    <tr style=\"text-align: right;\">\n",
       "      <th></th>\n",
       "      <th>price_aprox_usd</th>\n",
       "      <th>surface_covered_in_m2</th>\n",
       "      <th>lat</th>\n",
       "      <th>lon</th>\n",
       "      <th>borough</th>\n",
       "    </tr>\n",
       "  </thead>\n",
       "  <tbody>\n",
       "    <tr>\n",
       "      <th>0</th>\n",
       "      <td>289775.66</td>\n",
       "      <td>54.0</td>\n",
       "      <td>23.634501</td>\n",
       "      <td>-102.552788</td>\n",
       "      <td>Miguel Hidalgo</td>\n",
       "    </tr>\n",
       "    <tr>\n",
       "      <th>1</th>\n",
       "      <td>48822.82</td>\n",
       "      <td>100.0</td>\n",
       "      <td>19.279771</td>\n",
       "      <td>-99.234597</td>\n",
       "      <td>Tlalpan</td>\n",
       "    </tr>\n",
       "    <tr>\n",
       "      <th>2</th>\n",
       "      <td>232663.51</td>\n",
       "      <td>87.0</td>\n",
       "      <td>19.432657</td>\n",
       "      <td>-99.177444</td>\n",
       "      <td>Miguel Hidalgo</td>\n",
       "    </tr>\n",
       "    <tr>\n",
       "      <th>3</th>\n",
       "      <td>166001.78</td>\n",
       "      <td>100.0</td>\n",
       "      <td>19.367025</td>\n",
       "      <td>-99.170349</td>\n",
       "      <td>Benito Juárez</td>\n",
       "    </tr>\n",
       "    <tr>\n",
       "      <th>4</th>\n",
       "      <td>94022.66</td>\n",
       "      <td>57.0</td>\n",
       "      <td>23.634501</td>\n",
       "      <td>-102.552788</td>\n",
       "      <td>Benito Juárez</td>\n",
       "    </tr>\n",
       "  </tbody>\n",
       "</table>\n",
       "</div>"
      ],
      "text/plain": [
       "   price_aprox_usd  surface_covered_in_m2        lat         lon  \\\n",
       "0        289775.66                   54.0  23.634501 -102.552788   \n",
       "1         48822.82                  100.0  19.279771  -99.234597   \n",
       "2        232663.51                   87.0  19.432657  -99.177444   \n",
       "3        166001.78                  100.0  19.367025  -99.170349   \n",
       "4         94022.66                   57.0  23.634501 -102.552788   \n",
       "\n",
       "          borough  \n",
       "0  Miguel Hidalgo  \n",
       "1         Tlalpan  \n",
       "2  Miguel Hidalgo  \n",
       "3   Benito Juárez  \n",
       "4   Benito Juárez  "
      ]
     },
     "execution_count": 2,
     "metadata": {},
     "output_type": "execute_result"
    }
   ],
   "source": [
    "df = pd.read_csv(\"data/mexico-city-real-estate-clean.csv\")\n",
    "df.head()"
   ]
  },
  {
   "cell_type": "markdown",
   "id": "645a6097",
   "metadata": {},
   "source": [
    "### Explore"
   ]
  },
  {
   "cell_type": "code",
   "execution_count": 3,
   "id": "4e4d0006",
   "metadata": {},
   "outputs": [
    {
     "name": "stdout",
     "output_type": "stream",
     "text": [
      "<class 'pandas.core.frame.DataFrame'>\n",
      "RangeIndex: 9330 entries, 0 to 9329\n",
      "Data columns (total 5 columns):\n",
      " #   Column                 Non-Null Count  Dtype  \n",
      "---  ------                 --------------  -----  \n",
      " 0   price_aprox_usd        9330 non-null   float64\n",
      " 1   surface_covered_in_m2  9330 non-null   float64\n",
      " 2   lat                    8716 non-null   float64\n",
      " 3   lon                    8716 non-null   float64\n",
      " 4   borough                9330 non-null   object \n",
      "dtypes: float64(4), object(1)\n",
      "memory usage: 364.6+ KB\n"
     ]
    }
   ],
   "source": [
    "df.info()"
   ]
  },
  {
   "cell_type": "code",
   "execution_count": 4,
   "id": "7b1396a4",
   "metadata": {},
   "outputs": [
    {
     "data": {
      "text/plain": [
       "(9330, 5)"
      ]
     },
     "execution_count": 4,
     "metadata": {},
     "output_type": "execute_result"
    }
   ],
   "source": [
    "df.shape"
   ]
  },
  {
   "cell_type": "code",
   "execution_count": 5,
   "id": "f7417a32",
   "metadata": {},
   "outputs": [
    {
     "data": {
      "text/plain": [
       "price_aprox_usd            0\n",
       "surface_covered_in_m2      0\n",
       "lat                      614\n",
       "lon                      614\n",
       "borough                    0\n",
       "dtype: int64"
      ]
     },
     "execution_count": 5,
     "metadata": {},
     "output_type": "execute_result"
    }
   ],
   "source": [
    "df.isnull().sum()"
   ]
  },
  {
   "cell_type": "code",
   "execution_count": 6,
   "id": "26c2e72a",
   "metadata": {},
   "outputs": [
    {
     "data": {
      "text/plain": [
       "(15,)"
      ]
     },
     "execution_count": 6,
     "metadata": {},
     "output_type": "execute_result"
    }
   ],
   "source": [
    "df[\"borough\"].value_counts().shape"
   ]
  },
  {
   "cell_type": "code",
   "execution_count": 7,
   "id": "f8898c26",
   "metadata": {},
   "outputs": [
    {
     "data": {
      "text/plain": [
       "(15,)"
      ]
     },
     "execution_count": 7,
     "metadata": {},
     "output_type": "execute_result"
    }
   ],
   "source": [
    "df[\"borough\"].unique().shape"
   ]
  },
  {
   "cell_type": "code",
   "execution_count": 8,
   "id": "c1f54eaa",
   "metadata": {},
   "outputs": [
    {
     "data": {
      "image/png": "[encoded data removed]",
      "text/plain": [
       "<Figure size 1080x432 with 1 Axes>"
      ]
     },
     "metadata": {},
     "output_type": "display_data"
    }
   ],
   "source": [
    "# Apartment Barchart\n",
    "\n",
    "fig = plt.figure(figsize=(15, 6))\n",
    "plt.bar(\n",
    "    df[\"borough\"].unique(),\n",
    "    df[\"borough\"].value_counts()\n",
    ")\n",
    "\n",
    "plt.xlabel(\"Neighborhoods\")\n",
    "plt.ylabel(\"Number of Apartments\")\n",
    "plt.title(\"Distrito Federal: Apartments Count by Neighborhoods\")\n",
    "plt.xticks(rotation = 75)\n",
    "\n",
    "plt.savefig(\"images/4-1.png\", dpi=150)"
   ]
  },
  {
   "cell_type": "markdown",
   "id": "b755e5f6",
   "metadata": {},
   "source": [
    " ### Split"
   ]
  },
  {
   "cell_type": "code",
   "execution_count": 9,
   "id": "86365bf7",
   "metadata": {},
   "outputs": [],
   "source": [
    "features = [\"borough\"]\n",
    "target = \"price_aprox_usd\"\n",
    "\n",
    "X_train = df[features]\n",
    "y_train = df[target]"
   ]
  },
  {
   "cell_type": "code",
   "execution_count": 10,
   "id": "07e14e02",
   "metadata": {},
   "outputs": [
    {
     "data": {
      "text/html": [
       "<div>\n",
       "<style scoped>\n",
       "    .dataframe tbody tr th:only-of-type {\n",
       "        vertical-align: middle;\n",
       "    }\n",
       "\n",
       "    .dataframe tbody tr th {\n",
       "        vertical-align: top;\n",
       "    }\n",
       "\n",
       "    .dataframe thead th {\n",
       "        text-align: right;\n",
       "    }\n",
       "</style>\n",
       "<table border=\"1\" class=\"dataframe\">\n",
       "  <thead>\n",
       "    <tr style=\"text-align: right;\">\n",
       "      <th></th>\n",
       "      <th>borough</th>\n",
       "    </tr>\n",
       "  </thead>\n",
       "  <tbody>\n",
       "    <tr>\n",
       "      <th>0</th>\n",
       "      <td>Miguel Hidalgo</td>\n",
       "    </tr>\n",
       "    <tr>\n",
       "      <th>1</th>\n",
       "      <td>Tlalpan</td>\n",
       "    </tr>\n",
       "    <tr>\n",
       "      <th>2</th>\n",
       "      <td>Miguel Hidalgo</td>\n",
       "    </tr>\n",
       "    <tr>\n",
       "      <th>3</th>\n",
       "      <td>Benito Juárez</td>\n",
       "    </tr>\n",
       "    <tr>\n",
       "      <th>4</th>\n",
       "      <td>Benito Juárez</td>\n",
       "    </tr>\n",
       "  </tbody>\n",
       "</table>\n",
       "</div>"
      ],
      "text/plain": [
       "          borough\n",
       "0  Miguel Hidalgo\n",
       "1         Tlalpan\n",
       "2  Miguel Hidalgo\n",
       "3   Benito Juárez\n",
       "4   Benito Juárez"
      ]
     },
     "execution_count": 10,
     "metadata": {},
     "output_type": "execute_result"
    }
   ],
   "source": [
    "X_train.head()"
   ]
  },
  {
   "cell_type": "code",
   "execution_count": 11,
   "id": "31175731",
   "metadata": {},
   "outputs": [
    {
     "data": {
      "text/plain": [
       "0    289775.66\n",
       "1     48822.82\n",
       "2    232663.51\n",
       "3    166001.78\n",
       "4     94022.66\n",
       "Name: price_aprox_usd, dtype: float64"
      ]
     },
     "execution_count": 11,
     "metadata": {},
     "output_type": "execute_result"
    }
   ],
   "source": [
    "y_train.head()"
   ]
  },
  {
   "cell_type": "markdown",
   "id": "2ed7ceae",
   "metadata": {},
   "source": [
    "## Build Model"
   ]
  },
  {
   "cell_type": "code",
   "execution_count": 12,
   "id": "ba57a8de",
   "metadata": {},
   "outputs": [
    {
     "data": {
      "text/plain": [
       "102312.1"
      ]
     },
     "execution_count": 12,
     "metadata": {},
     "output_type": "execute_result"
    }
   ],
   "source": [
    "y_mean = round(y_train.mean(), 2)\n",
    "y_mean"
   ]
  },
  {
   "cell_type": "markdown",
   "id": "4a763468",
   "metadata": {},
   "source": [
    "Create a list of prediction baseline"
   ]
  },
  {
   "cell_type": "code",
   "execution_count": 13,
   "id": "867080c6",
   "metadata": {},
   "outputs": [
    {
     "data": {
      "text/plain": [
       "[102312.1, 102312.1, 102312.1, 102312.1, 102312.1]"
      ]
     },
     "execution_count": 13,
     "metadata": {},
     "output_type": "execute_result"
    }
   ],
   "source": [
    "y_pred_baseline = [y_mean] * len(y_train)\n",
    "y_pred_baseline[:5]"
   ]
  },
  {
   "cell_type": "markdown",
   "id": "d4d6e50c",
   "metadata": {},
   "source": [
    "### Baseline Mean Absolute Error"
   ]
  },
  {
   "cell_type": "code",
   "execution_count": 14,
   "id": "4a250f03",
   "metadata": {},
   "outputs": [
    {
     "name": "stdout",
     "output_type": "stream",
     "text": [
      "Baseline Mean Absolute Error: 57569.99\n",
      "Mean Apartment Price: 102312.1\n"
     ]
    }
   ],
   "source": [
    "baseline_mae = mean_absolute_error(y_train, y_pred_baseline)\n",
    "\n",
    "print(f\"Baseline Mean Absolute Error: {round(baseline_mae, 2)}\")\n",
    "print(f\"Mean Apartment Price: {y_mean}\")"
   ]
  },
  {
   "cell_type": "markdown",
   "id": "06af4ec5",
   "metadata": {},
   "source": [
    "### Iterate"
   ]
  },
  {
   "cell_type": "markdown",
   "id": "dc2b4df3",
   "metadata": {},
   "source": [
    "Since the values of the `feature` are strings, we will encode them to be represented numerically. We will use the `OneHotEncoder` library."
   ]
  },
  {
   "cell_type": "markdown",
   "id": "802943de",
   "metadata": {},
   "source": [
    "Instantiate `OneHotEncoder`"
   ]
  },
  {
   "cell_type": "code",
   "execution_count": 15,
   "id": "992eda7b",
   "metadata": {},
   "outputs": [],
   "source": [
    "code = OneHotEncoder(use_cat_names=True)"
   ]
  },
  {
   "cell_type": "markdown",
   "id": "545be760",
   "metadata": {},
   "source": [
    "Fit the transformer to the feature matrix `X_train`"
   ]
  },
  {
   "cell_type": "code",
   "execution_count": 16,
   "id": "6231d207",
   "metadata": {},
   "outputs": [
    {
     "data": {
      "text/plain": [
       "OneHotEncoder(cols=['borough'], use_cat_names=True)"
      ]
     },
     "execution_count": 16,
     "metadata": {},
     "output_type": "execute_result"
    }
   ],
   "source": [
    "code.fit(X_train)"
   ]
  },
  {
   "cell_type": "markdown",
   "id": "237cb4e7",
   "metadata": {},
   "source": [
    "Use the encoder to transform the feature matrix `X_train`"
   ]
  },
  {
   "cell_type": "code",
   "execution_count": 17,
   "id": "208f636a",
   "metadata": {},
   "outputs": [],
   "source": [
    "X_train_coded = code.transform(X_train)"
   ]
  },
  {
   "cell_type": "code",
   "execution_count": 18,
   "id": "37db3479",
   "metadata": {},
   "outputs": [
    {
     "data": {
      "text/plain": [
       "(9330, 15)"
      ]
     },
     "execution_count": 18,
     "metadata": {},
     "output_type": "execute_result"
    }
   ],
   "source": [
    "X_train_coded.shape"
   ]
  },
  {
   "cell_type": "code",
   "execution_count": 19,
   "id": "bb304e7f",
   "metadata": {},
   "outputs": [
    {
     "data": {
      "text/html": [
       "<div>\n",
       "<style scoped>\n",
       "    .dataframe tbody tr th:only-of-type {\n",
       "        vertical-align: middle;\n",
       "    }\n",
       "\n",
       "    .dataframe tbody tr th {\n",
       "        vertical-align: top;\n",
       "    }\n",
       "\n",
       "    .dataframe thead th {\n",
       "        text-align: right;\n",
       "    }\n",
       "</style>\n",
       "<table border=\"1\" class=\"dataframe\">\n",
       "  <thead>\n",
       "    <tr style=\"text-align: right;\">\n",
       "      <th></th>\n",
       "      <th>borough_Miguel Hidalgo</th>\n",
       "      <th>borough_Tlalpan</th>\n",
       "      <th>borough_Benito Juárez</th>\n",
       "      <th>borough_Iztacalco</th>\n",
       "      <th>borough_Azcapotzalco</th>\n",
       "      <th>borough_Coyoacán</th>\n",
       "      <th>borough_Álvaro Obregón</th>\n",
       "      <th>borough_Cuajimalpa de Morelos</th>\n",
       "      <th>borough_Iztapalapa</th>\n",
       "      <th>borough_Cuauhtémoc</th>\n",
       "      <th>borough_Tláhuac</th>\n",
       "      <th>borough_Venustiano Carranza</th>\n",
       "      <th>borough_Gustavo A. Madero</th>\n",
       "      <th>borough_Xochimilco</th>\n",
       "      <th>borough_La Magdalena Contreras</th>\n",
       "    </tr>\n",
       "  </thead>\n",
       "  <tbody>\n",
       "    <tr>\n",
       "      <th>0</th>\n",
       "      <td>1</td>\n",
       "      <td>0</td>\n",
       "      <td>0</td>\n",
       "      <td>0</td>\n",
       "      <td>0</td>\n",
       "      <td>0</td>\n",
       "      <td>0</td>\n",
       "      <td>0</td>\n",
       "      <td>0</td>\n",
       "      <td>0</td>\n",
       "      <td>0</td>\n",
       "      <td>0</td>\n",
       "      <td>0</td>\n",
       "      <td>0</td>\n",
       "      <td>0</td>\n",
       "    </tr>\n",
       "    <tr>\n",
       "      <th>1</th>\n",
       "      <td>0</td>\n",
       "      <td>1</td>\n",
       "      <td>0</td>\n",
       "      <td>0</td>\n",
       "      <td>0</td>\n",
       "      <td>0</td>\n",
       "      <td>0</td>\n",
       "      <td>0</td>\n",
       "      <td>0</td>\n",
       "      <td>0</td>\n",
       "      <td>0</td>\n",
       "      <td>0</td>\n",
       "      <td>0</td>\n",
       "      <td>0</td>\n",
       "      <td>0</td>\n",
       "    </tr>\n",
       "    <tr>\n",
       "      <th>2</th>\n",
       "      <td>1</td>\n",
       "      <td>0</td>\n",
       "      <td>0</td>\n",
       "      <td>0</td>\n",
       "      <td>0</td>\n",
       "      <td>0</td>\n",
       "      <td>0</td>\n",
       "      <td>0</td>\n",
       "      <td>0</td>\n",
       "      <td>0</td>\n",
       "      <td>0</td>\n",
       "      <td>0</td>\n",
       "      <td>0</td>\n",
       "      <td>0</td>\n",
       "      <td>0</td>\n",
       "    </tr>\n",
       "    <tr>\n",
       "      <th>3</th>\n",
       "      <td>0</td>\n",
       "      <td>0</td>\n",
       "      <td>1</td>\n",
       "      <td>0</td>\n",
       "      <td>0</td>\n",
       "      <td>0</td>\n",
       "      <td>0</td>\n",
       "      <td>0</td>\n",
       "      <td>0</td>\n",
       "      <td>0</td>\n",
       "      <td>0</td>\n",
       "      <td>0</td>\n",
       "      <td>0</td>\n",
       "      <td>0</td>\n",
       "      <td>0</td>\n",
       "    </tr>\n",
       "    <tr>\n",
       "      <th>4</th>\n",
       "      <td>0</td>\n",
       "      <td>0</td>\n",
       "      <td>1</td>\n",
       "      <td>0</td>\n",
       "      <td>0</td>\n",
       "      <td>0</td>\n",
       "      <td>0</td>\n",
       "      <td>0</td>\n",
       "      <td>0</td>\n",
       "      <td>0</td>\n",
       "      <td>0</td>\n",
       "      <td>0</td>\n",
       "      <td>0</td>\n",
       "      <td>0</td>\n",
       "      <td>0</td>\n",
       "    </tr>\n",
       "  </tbody>\n",
       "</table>\n",
       "</div>"
      ],
      "text/plain": [
       "   borough_Miguel Hidalgo  borough_Tlalpan  borough_Benito Juárez  \\\n",
       "0                       1                0                      0   \n",
       "1                       0                1                      0   \n",
       "2                       1                0                      0   \n",
       "3                       0                0                      1   \n",
       "4                       0                0                      1   \n",
       "\n",
       "   borough_Iztacalco  borough_Azcapotzalco  borough_Coyoacán  \\\n",
       "0                  0                     0                 0   \n",
       "1                  0                     0                 0   \n",
       "2                  0                     0                 0   \n",
       "3                  0                     0                 0   \n",
       "4                  0                     0                 0   \n",
       "\n",
       "   borough_Álvaro Obregón  borough_Cuajimalpa de Morelos  borough_Iztapalapa  \\\n",
       "0                       0                              0                   0   \n",
       "1                       0                              0                   0   \n",
       "2                       0                              0                   0   \n",
       "3                       0                              0                   0   \n",
       "4                       0                              0                   0   \n",
       "\n",
       "   borough_Cuauhtémoc  borough_Tláhuac  borough_Venustiano Carranza  \\\n",
       "0                   0                0                            0   \n",
       "1                   0                0                            0   \n",
       "2                   0                0                            0   \n",
       "3                   0                0                            0   \n",
       "4                   0                0                            0   \n",
       "\n",
       "   borough_Gustavo A. Madero  borough_Xochimilco  \\\n",
       "0                          0                   0   \n",
       "1                          0                   0   \n",
       "2                          0                   0   \n",
       "3                          0                   0   \n",
       "4                          0                   0   \n",
       "\n",
       "   borough_La Magdalena Contreras  \n",
       "0                               0  \n",
       "1                               0  \n",
       "2                               0  \n",
       "3                               0  \n",
       "4                               0  "
      ]
     },
     "execution_count": 19,
     "metadata": {},
     "output_type": "execute_result"
    }
   ],
   "source": [
    "X_train_coded.head()"
   ]
  },
  {
   "cell_type": "markdown",
   "id": "e940e9ce",
   "metadata": {},
   "source": [
    "### Create Pipeline"
   ]
  },
  {
   "cell_type": "markdown",
   "id": "79e7756f",
   "metadata": {},
   "source": [
    "Create a pipeline that contains `OneHotEncoder` transformer and `LinearRegression` predictor."
   ]
  },
  {
   "cell_type": "code",
   "execution_count": 20,
   "id": "663382a3",
   "metadata": {},
   "outputs": [
    {
     "data": {
      "text/plain": [
       "Pipeline(steps=[('onehotencoder',\n",
       "                 OneHotEncoder(cols=['borough'], use_cat_names=True)),\n",
       "                ('linearregression', LinearRegression())])"
      ]
     },
     "execution_count": 20,
     "metadata": {},
     "output_type": "execute_result"
    }
   ],
   "source": [
    "model = make_pipeline(\n",
    "    OneHotEncoder(use_cat_names=True),\n",
    "    LinearRegression()\n",
    ")\n",
    "\n",
    "model.fit(X_train, y_train)"
   ]
  },
  {
   "cell_type": "markdown",
   "id": "d6da28b1",
   "metadata": {},
   "source": [
    "### Evaluate model\n",
    "\n",
    "Check the model performance on thetraining dataset `X_train`"
   ]
  },
  {
   "cell_type": "code",
   "execution_count": 21,
   "id": "14145d13",
   "metadata": {},
   "outputs": [
    {
     "data": {
      "text/plain": [
       "array([120704.,  89344., 120704., 131712., 131712.])"
      ]
     },
     "execution_count": 21,
     "metadata": {},
     "output_type": "execute_result"
    }
   ],
   "source": [
    "training_pred = model.predict(X_train).round(2)\n",
    "training_pred[:5]"
   ]
  },
  {
   "cell_type": "markdown",
   "id": "82a22e86",
   "metadata": {},
   "source": [
    "Training `mean_absolute_error`"
   ]
  },
  {
   "cell_type": "code",
   "execution_count": 22,
   "id": "c5512518",
   "metadata": {},
   "outputs": [
    {
     "name": "stdout",
     "output_type": "stream",
     "text": [
      "Mean Apartment Price: 102312.1\n",
      "Baseline MAE: 57569.99\n",
      "Training MAE: 49067.13\n"
     ]
    }
   ],
   "source": [
    "training_mae = mean_absolute_error(y_train, training_pred)\n",
    "\n",
    "print(f\"Mean Apartment Price: {y_mean}\")\n",
    "print(f\"Baseline MAE: {round(baseline_mae, 2)}\")\n",
    "print(f\"Training MAE: {round(training_mae, 2)}\")"
   ]
  },
  {
   "cell_type": "markdown",
   "id": "718470cf",
   "metadata": {},
   "source": [
    "#### Test data"
   ]
  },
  {
   "cell_type": "markdown",
   "id": "4b3c967b",
   "metadata": {},
   "source": [
    "Chech the model performance on the test set."
   ]
  },
  {
   "cell_type": "code",
   "execution_count": 23,
   "id": "24ad1484",
   "metadata": {},
   "outputs": [],
   "source": [
    "X_test = pd.read_csv(\"test/mexico-city-real-estate-test-features.csv\")[features]"
   ]
  },
  {
   "cell_type": "code",
   "execution_count": 24,
   "id": "c788bd81",
   "metadata": {},
   "outputs": [
    {
     "data": {
      "text/plain": [
       "0     61952.0\n",
       "1     84224.0\n",
       "2     45568.0\n",
       "3     61952.0\n",
       "4    131712.0\n",
       "dtype: float64"
      ]
     },
     "execution_count": 24,
     "metadata": {},
     "output_type": "execute_result"
    }
   ],
   "source": [
    "y_test_pred = pd.Series(model.predict(X_test))\n",
    "\n",
    "y_test_pred.head()"
   ]
  },
  {
   "cell_type": "code",
   "execution_count": null,
   "id": "c46556d8",
   "metadata": {},
   "outputs": [],
   "source": []
  },
  {
   "cell_type": "markdown",
   "id": "88d3990c",
   "metadata": {},
   "source": [
    "## Communicate Results"
   ]
  },
  {
   "cell_type": "markdown",
   "id": "76401621",
   "metadata": {},
   "source": [
    "### Extract Coefficients"
   ]
  },
  {
   "cell_type": "markdown",
   "id": "c0baee70",
   "metadata": {},
   "source": [
    "The dimesion is very high, since there are almost 15 unique values in the features column. There will be a problem of **\"overfiting\"**, the problem will be solved using regularization."
   ]
  },
  {
   "cell_type": "code",
   "execution_count": 26,
   "id": "488bc1e2",
   "metadata": {},
   "outputs": [
    {
     "data": {
      "text/plain": [
       "-1.021004886692826e+18"
      ]
     },
     "execution_count": 26,
     "metadata": {},
     "output_type": "execute_result"
    }
   ],
   "source": [
    "intercept = model.named_steps[\"linearregression\"].intercept_\n",
    "intercept"
   ]
  },
  {
   "cell_type": "code",
   "execution_count": 27,
   "id": "b53454f9",
   "metadata": {},
   "outputs": [
    {
     "name": "stdout",
     "output_type": "stream",
     "text": [
      "Coefficient len:  15\n",
      "[1.02100489e+18 1.02100489e+18 1.02100489e+18 1.02100489e+18\n",
      " 1.02100489e+18 1.02100489e+18 1.02100489e+18 1.02100489e+18\n",
      " 1.02100489e+18 1.02100489e+18 1.02100489e+18 1.02100489e+18\n",
      " 1.02100489e+18 1.02100489e+18 1.02100489e+18]\n"
     ]
    }
   ],
   "source": [
    "coefficients = model.named_steps[\"linearregression\"].coef_\n",
    "print(\"Coefficient len: \", len(coefficients))\n",
    "print(coefficients)"
   ]
  },
  {
   "cell_type": "markdown",
   "id": "53114846",
   "metadata": {},
   "source": [
    "### Extract feature names of encoded data\n",
    "\n",
    "To know which feature each coefficient belongs to, we have to extract the feature names of encoded data from the `OneHotEncoder` in the model."
   ]
  },
  {
   "cell_type": "code",
   "execution_count": 28,
   "id": "e360f4f2",
   "metadata": {},
   "outputs": [
    {
     "name": "stdout",
     "output_type": "stream",
     "text": [
      "Features len:  15\n",
      "['borough_Miguel Hidalgo' 'borough_Tlalpan' 'borough_Benito Juárez'\n",
      " 'borough_Iztacalco' 'borough_Azcapotzalco' 'borough_Coyoacán'\n",
      " 'borough_Álvaro Obregón' 'borough_Cuajimalpa de Morelos'\n",
      " 'borough_Iztapalapa' 'borough_Cuauhtémoc' 'borough_Tláhuac'\n",
      " 'borough_Venustiano Carranza' 'borough_Gustavo A. Madero'\n",
      " 'borough_Xochimilco' 'borough_La Magdalena Contreras']\n"
     ]
    }
   ],
   "source": [
    "feature_names = model.named_steps[\"onehotencoder\"].get_feature_names_out()\n",
    "\n",
    "print(\"Features len: \", len(feature_names))\n",
    "print(feature_names)"
   ]
  },
  {
   "cell_type": "markdown",
   "id": "545467f5",
   "metadata": {},
   "source": [
    "Create Feature Importance Series"
   ]
  },
  {
   "cell_type": "code",
   "execution_count": 29,
   "id": "de030b8b",
   "metadata": {},
   "outputs": [
    {
     "data": {
      "text/plain": [
       "borough_Miguel Hidalgo    1.021005e+18\n",
       "borough_Tlalpan           1.021005e+18\n",
       "borough_Benito Juárez     1.021005e+18\n",
       "borough_Iztacalco         1.021005e+18\n",
       "borough_Azcapotzalco      1.021005e+18\n",
       "dtype: float64"
      ]
     },
     "execution_count": 29,
     "metadata": {},
     "output_type": "execute_result"
    }
   ],
   "source": [
    "feat_imp = pd.Series(coefficients, index=feature_names)\n",
    "\n",
    "feat_imp.head()"
   ]
  },
  {
   "cell_type": "markdown",
   "id": "2a6fa9c6",
   "metadata": {},
   "source": [
    "#### Model Equation"
   ]
  },
  {
   "cell_type": "markdown",
   "id": "d8f3ec0e",
   "metadata": {},
   "source": [
    "Print the model equation using a `for` loop since it is goint to be a long equation."
   ]
  },
  {
   "cell_type": "code",
   "execution_count": 30,
   "id": "619431cf",
   "metadata": {},
   "outputs": [
    {
     "name": "stdout",
     "output_type": "stream",
     "text": [
      "price = -1.021004886692826e+18\n",
      "+ 1.0210048866929467e+18 * borough_Miguel Hidalgo\n",
      "+ 1.0210048866929153e+18 * borough_Tlalpan\n",
      "+ 1.0210048866929577e+18 * borough_Benito Juárez\n",
      "+ 1.0210048866928814e+18 * borough_Iztacalco\n",
      "+ 1.0210048866928879e+18 * borough_Azcapotzalco\n",
      "+ 1.0210048866929102e+18 * borough_Coyoacán\n",
      "+ 1.021004886692935e+18 * borough_Álvaro Obregón\n",
      "+ 1.021004886693021e+18 * borough_Cuajimalpa de Morelos\n",
      "+ 1.0210048866928716e+18 * borough_Iztapalapa\n",
      "+ 1.0210048866929327e+18 * borough_Cuauhtémoc\n",
      "+ 1.02100488669287e+18 * borough_Tláhuac\n",
      "+ 1.0210048866928833e+18 * borough_Venustiano Carranza\n",
      "+ 1.0210048866928849e+18 * borough_Gustavo A. Madero\n",
      "+ 1.0210048866928824e+18 * borough_Xochimilco\n",
      "+ 1.0210048866929138e+18 * borough_La Magdalena Contreras\n"
     ]
    }
   ],
   "source": [
    "print(f\"price = {intercept.round(2)}\")\n",
    "for f,c in feat_imp.items():\n",
    "    print(f\"+ {round(c, 2)} * {f}\")"
   ]
  },
  {
   "cell_type": "markdown",
   "id": "64a6e781",
   "metadata": {},
   "source": [
    "### Curse of Dimensionality and `Ridge`"
   ]
  },
  {
   "cell_type": "markdown",
   "id": "f3e000f9",
   "metadata": {},
   "source": [
    "The linear model acts weird when there are many dimensions, this causes an overfit. **Regularization** is used to solve this problem."
   ]
  },
  {
   "cell_type": "markdown",
   "id": "ccf47e6d",
   "metadata": {},
   "source": [
    "A `Ridge Regression` is used to swap the `Linear Regression` model. Using `Ridge()` for high dimensional model will help solve the problem of overfitting."
   ]
  },
  {
   "cell_type": "code",
   "execution_count": 32,
   "id": "6a68b34c",
   "metadata": {},
   "outputs": [
    {
     "data": {
      "text/plain": [
       "Pipeline(steps=[('onehotencoder',\n",
       "                 OneHotEncoder(cols=['borough'], use_cat_names=True)),\n",
       "                ('ridge', Ridge())])"
      ]
     },
     "execution_count": 32,
     "metadata": {},
     "output_type": "execute_result"
    }
   ],
   "source": [
    "model_ridge = make_pipeline(\n",
    "    OneHotEncoder(use_cat_names=True),\n",
    "    Ridge()\n",
    ")\n",
    "\n",
    "model.fit(X_train, y_train)"
   ]
  },
  {
   "cell_type": "markdown",
   "id": "69c4153a",
   "metadata": {},
   "source": [
    "#### Model equation"
   ]
  },
  {
   "cell_type": "code",
   "execution_count": 33,
   "id": "9b605199",
   "metadata": {},
   "outputs": [
    {
     "name": "stdout",
     "output_type": "stream",
     "text": [
      "Coefficient len:  15\n",
      "[ 33863.95298068   4726.27125275  45285.34162896 -32909.82796877\n",
      " -24283.45684186  -2694.12641641  20765.07666488 107898.32623653\n",
      " -42679.64044346  20279.493148   -42379.11955422 -29851.61710908\n",
      " -28498.70761213 -30164.65109762    642.68513197]\n"
     ]
    }
   ],
   "source": [
    "intercept_ridge = model.named_steps[\"ridge\"].intercept_\n",
    "coefficients_ridge = model.named_steps[\"ridge\"].coef_\n",
    "\n",
    "print(\"Coefficient len: \", len(coefficients_ridge))\n",
    "print(coefficients_ridge)"
   ]
  },
  {
   "cell_type": "code",
   "execution_count": 34,
   "id": "8ada51bf",
   "metadata": {},
   "outputs": [
    {
     "data": {
      "text/plain": [
       "borough_Miguel Hidalgo    33863.952981\n",
       "borough_Tlalpan            4726.271253\n",
       "borough_Benito Juárez     45285.341629\n",
       "borough_Iztacalco        -32909.827969\n",
       "borough_Azcapotzalco     -24283.456842\n",
       "dtype: float64"
      ]
     },
     "execution_count": 34,
     "metadata": {},
     "output_type": "execute_result"
    }
   ],
   "source": [
    "feat_imp_ridge = pd.Series(coefficients_ridge, index=feature_names)\n",
    "\n",
    "feat_imp_ridge.head()"
   ]
  },
  {
   "cell_type": "code",
   "execution_count": 36,
   "id": "caa3a0a8",
   "metadata": {},
   "outputs": [
    {
     "name": "stdout",
     "output_type": "stream",
     "text": [
      "price = 86949.61\n",
      "+ 33863.95 * borough_Miguel Hidalgo\n",
      "+ 4726.27 * borough_Tlalpan\n",
      "+ 45285.34 * borough_Benito Juárez\n",
      "+ -32909.83 * borough_Iztacalco\n",
      "+ -24283.46 * borough_Azcapotzalco\n",
      "+ -2694.13 * borough_Coyoacán\n",
      "+ 20765.08 * borough_Álvaro Obregón\n",
      "+ 107898.33 * borough_Cuajimalpa de Morelos\n",
      "+ -42679.64 * borough_Iztapalapa\n",
      "+ 20279.49 * borough_Cuauhtémoc\n",
      "+ -42379.12 * borough_Tláhuac\n",
      "+ -29851.62 * borough_Venustiano Carranza\n",
      "+ -28498.71 * borough_Gustavo A. Madero\n",
      "+ -30164.65 * borough_Xochimilco\n",
      "+ 642.69 * borough_La Magdalena Contreras\n"
     ]
    }
   ],
   "source": [
    "print(f\"price = {intercept_ridge.round(2)}\")\n",
    "for f,c in feat_imp_ridge.items():\n",
    "    print(f\"+ {round(c, 2)} * {f}\")"
   ]
  },
  {
   "cell_type": "markdown",
   "id": "3f5f8e3f",
   "metadata": {},
   "source": [
    "**Feature Importance Bar Chart**"
   ]
  },
  {
   "cell_type": "code",
   "execution_count": 39,
   "id": "c3ec055d",
   "metadata": {},
   "outputs": [
    {
     "data": {
      "image/png": "[encoded data removed]",
      "text/plain": [
       "<Figure size 432x288 with 1 Axes>"
      ]
     },
     "metadata": {},
     "output_type": "display_data"
    }
   ],
   "source": [
    "(\n",
    "    feat_imp_ridge\n",
    "    .sort_values(key=abs)\n",
    "    .tail(15)\n",
    "    .plot(kind =\"barh\")\n",
    ")\n",
    "\n",
    "plt.xlabel(\"Importance [USD]\")\n",
    "plt.ylabel(\"Features\")\n",
    "\n",
    "plt.title(\"Feature Importance for Apartment Prices\")\n",
    "\n",
    "plt.savefig(\"images/4-2.png\", dpi=150)"
   ]
  },
  {
   "cell_type": "code",
   "execution_count": null,
   "id": "054b95f9",
   "metadata": {},
   "outputs": [],
   "source": []
  }
 ],
 "metadata": {
  "kernelspec": {
   "display_name": "Python 3 (ipykernel)",
   "language": "python",
   "name": "python3"
  },
  "language_info": {
   "codemirror_mode": {
    "name": "ipython",
    "version": 3
   },
   "file_extension": ".py",
   "mimetype": "text/x-python",
   "name": "python",
   "nbconvert_exporter": "python",
   "pygments_lexer": "ipython3",
   "version": "3.9.7"
  }
 },
 "nbformat": 4,
 "nbformat_minor": 5
}
