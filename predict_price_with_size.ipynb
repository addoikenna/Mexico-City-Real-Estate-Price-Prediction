{
 "cells": [
  {
   "cell_type": "code",
   "execution_count": 1,
   "id": "c5812c87",
   "metadata": {},
   "outputs": [],
   "source": [
    "import matplotlib.pyplot as plt\n",
    "import pandas as pd\n",
    "import numpy as np\n",
    "import seaborn as sns\n",
    "sns.set()\n",
    "\n",
    "\n",
    "from sklearn.linear_model import LinearRegression\n",
    "from sklearn.metrics import mean_absolute_error\n",
    "from sklearn.utils.validation import check_is_fitted"
   ]
  },
  {
   "cell_type": "markdown",
   "id": "e4cf2744",
   "metadata": {},
   "source": [
    "In this project, we are going to examine the relationship between apartment **prices** and **size** in `Distrito Federal`, a state in Mexico. We will equally train a model that will predict the price of an apartment using the given size of the apartment."
   ]
  },
  {
   "cell_type": "markdown",
   "id": "5ebf8b05",
   "metadata": {},
   "source": [
    "## Prepare Data"
   ]
  },
  {
   "cell_type": "markdown",
   "id": "6ea7550a",
   "metadata": {},
   "source": [
    "### Import `mexico-city-real-estate-clean.csv` data"
   ]
  },
  {
   "cell_type": "code",
   "execution_count": 2,
   "id": "6fd08feb",
   "metadata": {},
   "outputs": [
    {
     "data": {
      "text/html": [
       "<div>\n",
       "<style scoped>\n",
       "    .dataframe tbody tr th:only-of-type {\n",
       "        vertical-align: middle;\n",
       "    }\n",
       "\n",
       "    .dataframe tbody tr th {\n",
       "        vertical-align: top;\n",
       "    }\n",
       "\n",
       "    .dataframe thead th {\n",
       "        text-align: right;\n",
       "    }\n",
       "</style>\n",
       "<table border=\"1\" class=\"dataframe\">\n",
       "  <thead>\n",
       "    <tr style=\"text-align: right;\">\n",
       "      <th></th>\n",
       "      <th>price_aprox_usd</th>\n",
       "      <th>surface_covered_in_m2</th>\n",
       "      <th>lat</th>\n",
       "      <th>lon</th>\n",
       "      <th>borough</th>\n",
       "    </tr>\n",
       "  </thead>\n",
       "  <tbody>\n",
       "    <tr>\n",
       "      <th>0</th>\n",
       "      <td>289775.66</td>\n",
       "      <td>54.0</td>\n",
       "      <td>23.634501</td>\n",
       "      <td>-102.552788</td>\n",
       "      <td>Miguel Hidalgo</td>\n",
       "    </tr>\n",
       "    <tr>\n",
       "      <th>1</th>\n",
       "      <td>48822.82</td>\n",
       "      <td>100.0</td>\n",
       "      <td>19.279771</td>\n",
       "      <td>-99.234597</td>\n",
       "      <td>Tlalpan</td>\n",
       "    </tr>\n",
       "    <tr>\n",
       "      <th>2</th>\n",
       "      <td>232663.51</td>\n",
       "      <td>87.0</td>\n",
       "      <td>19.432657</td>\n",
       "      <td>-99.177444</td>\n",
       "      <td>Miguel Hidalgo</td>\n",
       "    </tr>\n",
       "    <tr>\n",
       "      <th>3</th>\n",
       "      <td>166001.78</td>\n",
       "      <td>100.0</td>\n",
       "      <td>19.367025</td>\n",
       "      <td>-99.170349</td>\n",
       "      <td>Benito Juárez</td>\n",
       "    </tr>\n",
       "    <tr>\n",
       "      <th>4</th>\n",
       "      <td>94022.66</td>\n",
       "      <td>57.0</td>\n",
       "      <td>23.634501</td>\n",
       "      <td>-102.552788</td>\n",
       "      <td>Benito Juárez</td>\n",
       "    </tr>\n",
       "  </tbody>\n",
       "</table>\n",
       "</div>"
      ],
      "text/plain": [
       "   price_aprox_usd  surface_covered_in_m2        lat         lon  \\\n",
       "0        289775.66                   54.0  23.634501 -102.552788   \n",
       "1         48822.82                  100.0  19.279771  -99.234597   \n",
       "2        232663.51                   87.0  19.432657  -99.177444   \n",
       "3        166001.78                  100.0  19.367025  -99.170349   \n",
       "4         94022.66                   57.0  23.634501 -102.552788   \n",
       "\n",
       "          borough  \n",
       "0  Miguel Hidalgo  \n",
       "1         Tlalpan  \n",
       "2  Miguel Hidalgo  \n",
       "3   Benito Juárez  \n",
       "4   Benito Juárez  "
      ]
     },
     "execution_count": 2,
     "metadata": {},
     "output_type": "execute_result"
    }
   ],
   "source": [
    "# Import data\n",
    "df = pd.read_csv(\"data/mexico-city-real-estate-clean.csv\")\n",
    "\n",
    "df.head()"
   ]
  },
  {
   "cell_type": "markdown",
   "id": "7f219f56",
   "metadata": {},
   "source": [
    "### Explore"
   ]
  },
  {
   "cell_type": "markdown",
   "id": "9396074f",
   "metadata": {},
   "source": [
    "Summary statistics"
   ]
  },
  {
   "cell_type": "code",
   "execution_count": 3,
   "id": "2cda9786",
   "metadata": {},
   "outputs": [
    {
     "name": "stdout",
     "output_type": "stream",
     "text": [
      "<class 'pandas.core.frame.DataFrame'>\n",
      "RangeIndex: 9330 entries, 0 to 9329\n",
      "Data columns (total 5 columns):\n",
      " #   Column                 Non-Null Count  Dtype  \n",
      "---  ------                 --------------  -----  \n",
      " 0   price_aprox_usd        9330 non-null   float64\n",
      " 1   surface_covered_in_m2  9330 non-null   float64\n",
      " 2   lat                    8716 non-null   float64\n",
      " 3   lon                    8716 non-null   float64\n",
      " 4   borough                9330 non-null   object \n",
      "dtypes: float64(4), object(1)\n",
      "memory usage: 364.6+ KB\n"
     ]
    }
   ],
   "source": [
    "df.info()"
   ]
  },
  {
   "cell_type": "code",
   "execution_count": 4,
   "id": "3896bd53",
   "metadata": {},
   "outputs": [
    {
     "data": {
      "text/plain": [
       "(9330, 5)"
      ]
     },
     "execution_count": 4,
     "metadata": {},
     "output_type": "execute_result"
    }
   ],
   "source": [
    "df.shape"
   ]
  },
  {
   "cell_type": "code",
   "execution_count": 5,
   "id": "1b4dbd54",
   "metadata": {},
   "outputs": [
    {
     "data": {
      "text/html": [
       "<div>\n",
       "<style scoped>\n",
       "    .dataframe tbody tr th:only-of-type {\n",
       "        vertical-align: middle;\n",
       "    }\n",
       "\n",
       "    .dataframe tbody tr th {\n",
       "        vertical-align: top;\n",
       "    }\n",
       "\n",
       "    .dataframe thead th {\n",
       "        text-align: right;\n",
       "    }\n",
       "</style>\n",
       "<table border=\"1\" class=\"dataframe\">\n",
       "  <thead>\n",
       "    <tr style=\"text-align: right;\">\n",
       "      <th></th>\n",
       "      <th>price_aprox_usd</th>\n",
       "      <th>surface_covered_in_m2</th>\n",
       "      <th>lat</th>\n",
       "      <th>lon</th>\n",
       "    </tr>\n",
       "  </thead>\n",
       "  <tbody>\n",
       "    <tr>\n",
       "      <th>count</th>\n",
       "      <td>9330.000000</td>\n",
       "      <td>9330.000000</td>\n",
       "      <td>8716.000000</td>\n",
       "      <td>8716.000000</td>\n",
       "    </tr>\n",
       "    <tr>\n",
       "      <th>mean</th>\n",
       "      <td>102312.097460</td>\n",
       "      <td>76.483923</td>\n",
       "      <td>19.475876</td>\n",
       "      <td>-99.218778</td>\n",
       "    </tr>\n",
       "    <tr>\n",
       "      <th>std</th>\n",
       "      <td>72695.214533</td>\n",
       "      <td>18.652460</td>\n",
       "      <td>0.583719</td>\n",
       "      <td>0.494950</td>\n",
       "    </tr>\n",
       "    <tr>\n",
       "      <th>min</th>\n",
       "      <td>7823.940000</td>\n",
       "      <td>50.000000</td>\n",
       "      <td>19.194247</td>\n",
       "      <td>-102.552788</td>\n",
       "    </tr>\n",
       "    <tr>\n",
       "      <th>25%</th>\n",
       "      <td>46902.090000</td>\n",
       "      <td>61.000000</td>\n",
       "      <td>19.365558</td>\n",
       "      <td>-99.182964</td>\n",
       "    </tr>\n",
       "    <tr>\n",
       "      <th>50%</th>\n",
       "      <td>77712.560000</td>\n",
       "      <td>71.000000</td>\n",
       "      <td>19.393714</td>\n",
       "      <td>-99.159454</td>\n",
       "    </tr>\n",
       "    <tr>\n",
       "      <th>75%</th>\n",
       "      <td>142253.500000</td>\n",
       "      <td>90.000000</td>\n",
       "      <td>19.437506</td>\n",
       "      <td>-99.137094</td>\n",
       "    </tr>\n",
       "    <tr>\n",
       "      <th>max</th>\n",
       "      <td>395000.000000</td>\n",
       "      <td>130.000000</td>\n",
       "      <td>23.634501</td>\n",
       "      <td>-90.488467</td>\n",
       "    </tr>\n",
       "  </tbody>\n",
       "</table>\n",
       "</div>"
      ],
      "text/plain": [
       "       price_aprox_usd  surface_covered_in_m2          lat          lon\n",
       "count      9330.000000            9330.000000  8716.000000  8716.000000\n",
       "mean     102312.097460              76.483923    19.475876   -99.218778\n",
       "std       72695.214533              18.652460     0.583719     0.494950\n",
       "min        7823.940000              50.000000    19.194247  -102.552788\n",
       "25%       46902.090000              61.000000    19.365558   -99.182964\n",
       "50%       77712.560000              71.000000    19.393714   -99.159454\n",
       "75%      142253.500000              90.000000    19.437506   -99.137094\n",
       "max      395000.000000             130.000000    23.634501   -90.488467"
      ]
     },
     "execution_count": 5,
     "metadata": {},
     "output_type": "execute_result"
    }
   ],
   "source": [
    "df.describe()"
   ]
  },
  {
   "cell_type": "markdown",
   "id": "e1f10623",
   "metadata": {},
   "source": [
    "Explore the relationship between price, `\"price_aprox_usd\"` and area `\"surface_covered_in_m2\"` using a scatter plot."
   ]
  },
  {
   "cell_type": "code",
   "execution_count": 6,
   "id": "1728c82f",
   "metadata": {},
   "outputs": [
    {
     "data": {
      "image/png": "[encoded data removed]",
      "text/plain": [
       "<Figure size 432x288 with 1 Axes>"
      ]
     },
     "metadata": {},
     "output_type": "display_data"
    }
   ],
   "source": [
    "plt.scatter(x=df[\"surface_covered_in_m2\"], y=df[\"price_aprox_usd\"])\n",
    "\n",
    "# Add axis labels\n",
    "plt.xlabel(\"Area [sq meter]\")\n",
    "plt.ylabel(\"Price [USD]\")\n",
    "\n",
    "# Add title\n",
    "plt.title(\"Distrito Federal: Price vs Area\")\n",
    "\n",
    "# save as an image\n",
    "plt.savefig(\"images/2-1.png\", dpi=150)"
   ]
  },
  {
   "cell_type": "markdown",
   "id": "baa9cd4b",
   "metadata": {},
   "source": [
    "Explore the distribution of apartments bu sizes using a histogram of `\"surface_covered_in_m2\"`"
   ]
  },
  {
   "cell_type": "code",
   "execution_count": 7,
   "id": "ffc560cd",
   "metadata": {},
   "outputs": [
    {
     "data": {
      "image/png": "[encoded data removed]",
      "text/plain": [
       "<Figure size 432x288 with 1 Axes>"
      ]
     },
     "metadata": {},
     "output_type": "display_data"
    }
   ],
   "source": [
    "# Build histogram\n",
    "plt.hist(\n",
    "    df[\"surface_covered_in_m2\"]\n",
    ")\n",
    "\n",
    "\n",
    "# Label axes\n",
    "plt.xlabel(\"Area [sq meters]\")\n",
    "plt.ylabel(\"Frequency\")\n",
    "\n",
    "# Add title\n",
    "plt.title(\"Distribution of Apartment Sizes\")\n",
    "\n",
    "# save as an image\n",
    "plt.savefig(\"images/2-2.png\", dpi=150)"
   ]
  },
  {
   "cell_type": "code",
   "execution_count": 8,
   "id": "8ff4d038",
   "metadata": {},
   "outputs": [
    {
     "data": {
      "image/png": "[encoded data removed]",
      "text/plain": [
       "<Figure size 432x288 with 1 Axes>"
      ]
     },
     "metadata": {},
     "output_type": "display_data"
    }
   ],
   "source": [
    "# Build box plot\n",
    "\n",
    "plt.boxplot(\n",
    "     df[\"surface_covered_in_m2\"],\n",
    "    vert=False\n",
    ")\n",
    "\n",
    "\n",
    "# Label x-axis\n",
    "plt.xlabel(\"Area [sq meters]\")\n",
    "\n",
    "# Add title\n",
    "plt.title(\"Distrito Federal: Distribution of Home Sizes\")\n",
    "\n",
    "# save as an image\n",
    "plt.savefig(\"images/2-3.png\", dpi=150)"
   ]
  },
  {
   "cell_type": "markdown",
   "id": "dd5405ec",
   "metadata": {},
   "source": [
    "Check if there are `NaN`values in the `surface_covered_in_m2` column"
   ]
  },
  {
   "cell_type": "code",
   "execution_count": 9,
   "id": "4f68e4d5",
   "metadata": {},
   "outputs": [
    {
     "data": {
      "text/plain": [
       "price_aprox_usd            0\n",
       "surface_covered_in_m2      0\n",
       "lat                      614\n",
       "lon                      614\n",
       "borough                    0\n",
       "dtype: int64"
      ]
     },
     "execution_count": 9,
     "metadata": {},
     "output_type": "execute_result"
    }
   ],
   "source": [
    "df.isnull().sum()"
   ]
  },
  {
   "cell_type": "markdown",
   "id": "94888881",
   "metadata": {},
   "source": [
    "### Split"
   ]
  },
  {
   "cell_type": "markdown",
   "id": "df46a3f9",
   "metadata": {},
   "source": [
    "Split the dataset into feature matrix and target vector. The only feature here is `\"surface_covered_in_m2\"` while the target is `\"price_aprox_usd\"`"
   ]
  },
  {
   "cell_type": "code",
   "execution_count": 10,
   "id": "c0af404d",
   "metadata": {},
   "outputs": [
    {
     "data": {
      "text/html": [
       "<div>\n",
       "<style scoped>\n",
       "    .dataframe tbody tr th:only-of-type {\n",
       "        vertical-align: middle;\n",
       "    }\n",
       "\n",
       "    .dataframe tbody tr th {\n",
       "        vertical-align: top;\n",
       "    }\n",
       "\n",
       "    .dataframe thead th {\n",
       "        text-align: right;\n",
       "    }\n",
       "</style>\n",
       "<table border=\"1\" class=\"dataframe\">\n",
       "  <thead>\n",
       "    <tr style=\"text-align: right;\">\n",
       "      <th></th>\n",
       "      <th>price_aprox_usd</th>\n",
       "      <th>surface_covered_in_m2</th>\n",
       "      <th>lat</th>\n",
       "      <th>lon</th>\n",
       "      <th>borough</th>\n",
       "    </tr>\n",
       "  </thead>\n",
       "  <tbody>\n",
       "    <tr>\n",
       "      <th>0</th>\n",
       "      <td>289775.66</td>\n",
       "      <td>54.0</td>\n",
       "      <td>23.634501</td>\n",
       "      <td>-102.552788</td>\n",
       "      <td>Miguel Hidalgo</td>\n",
       "    </tr>\n",
       "    <tr>\n",
       "      <th>1</th>\n",
       "      <td>48822.82</td>\n",
       "      <td>100.0</td>\n",
       "      <td>19.279771</td>\n",
       "      <td>-99.234597</td>\n",
       "      <td>Tlalpan</td>\n",
       "    </tr>\n",
       "    <tr>\n",
       "      <th>2</th>\n",
       "      <td>232663.51</td>\n",
       "      <td>87.0</td>\n",
       "      <td>19.432657</td>\n",
       "      <td>-99.177444</td>\n",
       "      <td>Miguel Hidalgo</td>\n",
       "    </tr>\n",
       "    <tr>\n",
       "      <th>3</th>\n",
       "      <td>166001.78</td>\n",
       "      <td>100.0</td>\n",
       "      <td>19.367025</td>\n",
       "      <td>-99.170349</td>\n",
       "      <td>Benito Juárez</td>\n",
       "    </tr>\n",
       "    <tr>\n",
       "      <th>4</th>\n",
       "      <td>94022.66</td>\n",
       "      <td>57.0</td>\n",
       "      <td>23.634501</td>\n",
       "      <td>-102.552788</td>\n",
       "      <td>Benito Juárez</td>\n",
       "    </tr>\n",
       "  </tbody>\n",
       "</table>\n",
       "</div>"
      ],
      "text/plain": [
       "   price_aprox_usd  surface_covered_in_m2        lat         lon  \\\n",
       "0        289775.66                   54.0  23.634501 -102.552788   \n",
       "1         48822.82                  100.0  19.279771  -99.234597   \n",
       "2        232663.51                   87.0  19.432657  -99.177444   \n",
       "3        166001.78                  100.0  19.367025  -99.170349   \n",
       "4         94022.66                   57.0  23.634501 -102.552788   \n",
       "\n",
       "          borough  \n",
       "0  Miguel Hidalgo  \n",
       "1         Tlalpan  \n",
       "2  Miguel Hidalgo  \n",
       "3   Benito Juárez  \n",
       "4   Benito Juárez  "
      ]
     },
     "execution_count": 10,
     "metadata": {},
     "output_type": "execute_result"
    }
   ],
   "source": [
    "df.head()"
   ]
  },
  {
   "cell_type": "code",
   "execution_count": 11,
   "id": "34d886bc",
   "metadata": {},
   "outputs": [],
   "source": [
    "feature = [\"surface_covered_in_m2\"]\n",
    "\n",
    "target = \"price_aprox_usd\"\n",
    "\n",
    "X_train = df[feature]\n",
    "y_train = df[target]"
   ]
  },
  {
   "cell_type": "code",
   "execution_count": 12,
   "id": "02daa87b",
   "metadata": {},
   "outputs": [
    {
     "data": {
      "text/html": [
       "<div>\n",
       "<style scoped>\n",
       "    .dataframe tbody tr th:only-of-type {\n",
       "        vertical-align: middle;\n",
       "    }\n",
       "\n",
       "    .dataframe tbody tr th {\n",
       "        vertical-align: top;\n",
       "    }\n",
       "\n",
       "    .dataframe thead th {\n",
       "        text-align: right;\n",
       "    }\n",
       "</style>\n",
       "<table border=\"1\" class=\"dataframe\">\n",
       "  <thead>\n",
       "    <tr style=\"text-align: right;\">\n",
       "      <th></th>\n",
       "      <th>surface_covered_in_m2</th>\n",
       "    </tr>\n",
       "  </thead>\n",
       "  <tbody>\n",
       "    <tr>\n",
       "      <th>0</th>\n",
       "      <td>54.0</td>\n",
       "    </tr>\n",
       "    <tr>\n",
       "      <th>1</th>\n",
       "      <td>100.0</td>\n",
       "    </tr>\n",
       "    <tr>\n",
       "      <th>2</th>\n",
       "      <td>87.0</td>\n",
       "    </tr>\n",
       "    <tr>\n",
       "      <th>3</th>\n",
       "      <td>100.0</td>\n",
       "    </tr>\n",
       "    <tr>\n",
       "      <th>4</th>\n",
       "      <td>57.0</td>\n",
       "    </tr>\n",
       "  </tbody>\n",
       "</table>\n",
       "</div>"
      ],
      "text/plain": [
       "   surface_covered_in_m2\n",
       "0                   54.0\n",
       "1                  100.0\n",
       "2                   87.0\n",
       "3                  100.0\n",
       "4                   57.0"
      ]
     },
     "execution_count": 12,
     "metadata": {},
     "output_type": "execute_result"
    }
   ],
   "source": [
    "X_train.head()"
   ]
  },
  {
   "cell_type": "code",
   "execution_count": 13,
   "id": "636656bb",
   "metadata": {},
   "outputs": [
    {
     "data": {
      "text/plain": [
       "0    289775.66\n",
       "1     48822.82\n",
       "2    232663.51\n",
       "3    166001.78\n",
       "4     94022.66\n",
       "Name: price_aprox_usd, dtype: float64"
      ]
     },
     "execution_count": 13,
     "metadata": {},
     "output_type": "execute_result"
    }
   ],
   "source": [
    "y_train.head()"
   ]
  },
  {
   "cell_type": "markdown",
   "id": "da4b08ca",
   "metadata": {},
   "source": [
    "## Build Model"
   ]
  },
  {
   "cell_type": "markdown",
   "id": "cfbd7b7d",
   "metadata": {},
   "source": [
    " ### Model Baseline"
   ]
  },
  {
   "cell_type": "markdown",
   "id": "70518329",
   "metadata": {},
   "source": [
    "The baseline is the price the model will predict irrespective of the size"
   ]
  },
  {
   "cell_type": "code",
   "execution_count": 14,
   "id": "9f010e1d",
   "metadata": {},
   "outputs": [
    {
     "data": {
      "text/plain": [
       "102312.1"
      ]
     },
     "execution_count": 14,
     "metadata": {},
     "output_type": "execute_result"
    }
   ],
   "source": [
    "y_mean = round(y_train.mean(), 1)\n",
    "y_mean"
   ]
  },
  {
   "cell_type": "markdown",
   "id": "221a8b37",
   "metadata": {},
   "source": [
    "Prediction List"
   ]
  },
  {
   "cell_type": "code",
   "execution_count": 15,
   "id": "8a9ba9d4",
   "metadata": {},
   "outputs": [
    {
     "data": {
      "text/plain": [
       "[102312.1, 102312.1, 102312.1, 102312.1, 102312.1]"
      ]
     },
     "execution_count": 15,
     "metadata": {},
     "output_type": "execute_result"
    }
   ],
   "source": [
    "y_pred_baseline = [y_mean] * len(y_train)\n",
    "y_pred_baseline[:5]"
   ]
  },
  {
   "cell_type": "code",
   "execution_count": 16,
   "id": "3cc9b3dc",
   "metadata": {},
   "outputs": [
    {
     "data": {
      "image/png": "[encoded data removed]",
      "text/plain": [
       "<Figure size 432x288 with 1 Axes>"
      ]
     },
     "metadata": {},
     "output_type": "display_data"
    }
   ],
   "source": [
    "# Baseline scatter plot\n",
    "plt.plot(X_train, y_pred_baseline, label = \"Model Baseline\", color=\"red\")\n",
    "\n",
    "plt.scatter(x=df[\"surface_covered_in_m2\"], y=df[\"price_aprox_usd\"])\n",
    "\n",
    "# Add axis labels\n",
    "plt.xlabel(\"Area [sq meter]\")\n",
    "plt.ylabel(\"Price [USD]\")\n",
    "\n",
    "# Add title\n",
    "plt.title(\"Distrito Federal: Price vs Area\")\n",
    "\n",
    "plt.legend()\n",
    "\n",
    "# save as an image\n",
    "plt.savefig(\"images/2-4.png\", dpi=150)"
   ]
  },
  {
   "cell_type": "markdown",
   "id": "c44a4b72",
   "metadata": {},
   "source": [
    "Calculate Performance Metric: Baseline Mean Absolute Error"
   ]
  },
  {
   "cell_type": "code",
   "execution_count": 17,
   "id": "eefdd1f0",
   "metadata": {},
   "outputs": [
    {
     "name": "stdout",
     "output_type": "stream",
     "text": [
      "Mean Apartment Price:  102312.1\n",
      "Baseline MAE:  57569.99\n"
     ]
    }
   ],
   "source": [
    "baseline_mae = mean_absolute_error(y_train, y_pred_baseline)\n",
    "print(\"Mean Apartment Price: \",round(y_mean, 2))\n",
    "print(\"Baseline MAE: \",round(baseline_mae, 2))"
   ]
  },
  {
   "cell_type": "markdown",
   "id": "e7e36b81",
   "metadata": {},
   "source": [
    "### Iterate"
   ]
  },
  {
   "cell_type": "markdown",
   "id": "50e39368",
   "metadata": {},
   "source": [
    "Instantiate a `Linear Regression` model"
   ]
  },
  {
   "cell_type": "code",
   "execution_count": 18,
   "id": "68103f81",
   "metadata": {},
   "outputs": [],
   "source": [
    "model = LinearRegression()"
   ]
  },
  {
   "cell_type": "markdown",
   "id": "dd78730a",
   "metadata": {},
   "source": [
    "Train the model: Fit the model training data"
   ]
  },
  {
   "cell_type": "code",
   "execution_count": 19,
   "id": "bc21c565",
   "metadata": {},
   "outputs": [
    {
     "data": {
      "text/plain": [
       "LinearRegression()"
      ]
     },
     "execution_count": 19,
     "metadata": {},
     "output_type": "execute_result"
    }
   ],
   "source": [
    "model.fit(X_train, y_train)"
   ]
  },
  {
   "cell_type": "markdown",
   "id": "61204c78",
   "metadata": {},
   "source": [
    "Check if the model is fitted"
   ]
  },
  {
   "cell_type": "code",
   "execution_count": 20,
   "id": "e190437f",
   "metadata": {},
   "outputs": [],
   "source": [
    "check_is_fitted(model)"
   ]
  },
  {
   "cell_type": "markdown",
   "id": "36436be8",
   "metadata": {},
   "source": [
    "### Evaluate Model\n",
    "\n",
    "Evaluate the model to see how it performs against the data it saw during training."
   ]
  },
  {
   "cell_type": "code",
   "execution_count": 21,
   "id": "cbd4dc8a",
   "metadata": {},
   "outputs": [
    {
     "data": {
      "text/plain": [
       "array([ 53073.15854489, 153811.41526521, 125341.9079312 , ...,\n",
       "        61833.00695535,  66212.93116058, 197610.65731752])"
      ]
     },
     "execution_count": 21,
     "metadata": {},
     "output_type": "execute_result"
    }
   ],
   "source": [
    "# Generate predictions\n",
    "y_pred_training = model.predict(X_train)\n",
    "y_pred_training"
   ]
  },
  {
   "cell_type": "markdown",
   "id": "c9a0694d",
   "metadata": {},
   "source": [
    "Training Mean Absolute Error"
   ]
  },
  {
   "cell_type": "code",
   "execution_count": 22,
   "id": "494a0c71",
   "metadata": {},
   "outputs": [
    {
     "name": "stdout",
     "output_type": "stream",
     "text": [
      "Training MAE: 46358.33\n"
     ]
    }
   ],
   "source": [
    "training_mae = mean_absolute_error(y_train, y_pred_training)\n",
    "print(f\"Training MAE: {round(training_mae, 2)}\")"
   ]
  },
  {
   "cell_type": "markdown",
   "id": "c2269a0e",
   "metadata": {},
   "source": [
    "Check the model performance on the test set, the dataset that the model has not seen before."
   ]
  },
  {
   "cell_type": "code",
   "execution_count": 23,
   "id": "3b28bf58",
   "metadata": {},
   "outputs": [
    {
     "data": {
      "text/html": [
       "<div>\n",
       "<style scoped>\n",
       "    .dataframe tbody tr th:only-of-type {\n",
       "        vertical-align: middle;\n",
       "    }\n",
       "\n",
       "    .dataframe tbody tr th {\n",
       "        vertical-align: top;\n",
       "    }\n",
       "\n",
       "    .dataframe thead th {\n",
       "        text-align: right;\n",
       "    }\n",
       "</style>\n",
       "<table border=\"1\" class=\"dataframe\">\n",
       "  <thead>\n",
       "    <tr style=\"text-align: right;\">\n",
       "      <th></th>\n",
       "      <th>surface_covered_in_m2</th>\n",
       "    </tr>\n",
       "  </thead>\n",
       "  <tbody>\n",
       "    <tr>\n",
       "      <th>0</th>\n",
       "      <td>60.0</td>\n",
       "    </tr>\n",
       "    <tr>\n",
       "      <th>1</th>\n",
       "      <td>55.0</td>\n",
       "    </tr>\n",
       "    <tr>\n",
       "      <th>2</th>\n",
       "      <td>50.0</td>\n",
       "    </tr>\n",
       "    <tr>\n",
       "      <th>3</th>\n",
       "      <td>60.0</td>\n",
       "    </tr>\n",
       "    <tr>\n",
       "      <th>4</th>\n",
       "      <td>74.0</td>\n",
       "    </tr>\n",
       "  </tbody>\n",
       "</table>\n",
       "</div>"
      ],
      "text/plain": [
       "   surface_covered_in_m2\n",
       "0                   60.0\n",
       "1                   55.0\n",
       "2                   50.0\n",
       "3                   60.0\n",
       "4                   74.0"
      ]
     },
     "execution_count": 23,
     "metadata": {},
     "output_type": "execute_result"
    }
   ],
   "source": [
    "X_test = pd.read_csv(\"test/mexico-city-real-estate-test-features.csv\")[feature]\n",
    "\n",
    "X_test.head()"
   ]
  },
  {
   "cell_type": "code",
   "execution_count": 24,
   "id": "2138c4f4",
   "metadata": {},
   "outputs": [
    {
     "data": {
      "text/plain": [
       "0    66212.931161\n",
       "1    55263.120648\n",
       "2    44313.310134\n",
       "3    66212.931161\n",
       "4    96872.400597\n",
       "dtype: float64"
      ]
     },
     "execution_count": 24,
     "metadata": {},
     "output_type": "execute_result"
    }
   ],
   "source": [
    "y_pred_test = pd.Series(model.predict(X_test))\n",
    "\n",
    "y_pred_test.head()"
   ]
  },
  {
   "cell_type": "markdown",
   "id": "f2fc4746",
   "metadata": {},
   "source": [
    "## COMMUNICATE RESULTS"
   ]
  },
  {
   "cell_type": "markdown",
   "id": "516218aa",
   "metadata": {},
   "source": [
    "**Extract model Intercept**"
   ]
  },
  {
   "cell_type": "code",
   "execution_count": 25,
   "id": "b15ced81",
   "metadata": {},
   "outputs": [
    {
     "data": {
      "text/plain": [
       "-65184.79"
      ]
     },
     "execution_count": 25,
     "metadata": {},
     "output_type": "execute_result"
    }
   ],
   "source": [
    "intercept = round(model.intercept_, 2)\n",
    "intercept"
   ]
  },
  {
   "cell_type": "markdown",
   "id": "b9901242",
   "metadata": {},
   "source": [
    "**Extract Model Coefficient**"
   ]
  },
  {
   "cell_type": "code",
   "execution_count": 26,
   "id": "1383cfad",
   "metadata": {},
   "outputs": [
    {
     "data": {
      "text/plain": [
       "2189.96"
      ]
     },
     "execution_count": 26,
     "metadata": {},
     "output_type": "execute_result"
    }
   ],
   "source": [
    "coefficient = round(model.coef_[0], 2)\n",
    "coefficient"
   ]
  },
  {
   "cell_type": "markdown",
   "id": "5047b00f",
   "metadata": {},
   "source": [
    "**Model Equattion**"
   ]
  },
  {
   "cell_type": "markdown",
   "id": "cb66d124",
   "metadata": {},
   "source": [
    "y = intercept + (coefficient * surface_covered_in_m2)"
   ]
  },
  {
   "cell_type": "code",
   "execution_count": 27,
   "id": "789b7656",
   "metadata": {},
   "outputs": [
    {
     "name": "stdout",
     "output_type": "stream",
     "text": [
      "y = -65184.79 + (2189.96 * surface_covered_in_m2)\n"
     ]
    }
   ],
   "source": [
    "print(f\"y = {intercept} + ({coefficient} * surface_covered_in_m2)\")"
   ]
  },
  {
   "cell_type": "markdown",
   "id": "320e039b",
   "metadata": {},
   "source": [
    "### **Visualize:** Plot Model"
   ]
  },
  {
   "cell_type": "code",
   "execution_count": 28,
   "id": "0891cf8b",
   "metadata": {},
   "outputs": [
    {
     "data": {
      "image/png": "[encoded data removed]",
      "text/plain": [
       "<Figure size 432x288 with 1 Axes>"
      ]
     },
     "metadata": {},
     "output_type": "display_data"
    }
   ],
   "source": [
    "plt.plot(X_train, model.predict(X_train), color = \"r\", label = \"Linear Model\")\n",
    "\n",
    "plt.scatter(X_train, y_train)\n",
    "\n",
    "# Add axis labels\n",
    "plt.xlabel(\"Area [sq meter]\")\n",
    "plt.ylabel(\"Price [USD]\")\n",
    "\n",
    "# Add title\n",
    "plt.title(\"Distrito Federal: Linear Regression\")\n",
    "\n",
    "plt.legend()\n",
    "\n",
    "# save as an image\n",
    "plt.savefig(\"images/1-5.png\", dpi=150)"
   ]
  }
 ],
 "metadata": {
  "kernelspec": {
   "display_name": "Python 3 (ipykernel)",
   "language": "python",
   "name": "python3"
  },
  "language_info": {
   "codemirror_mode": {
    "name": "ipython",
    "version": 3
   },
   "file_extension": ".py",
   "mimetype": "text/x-python",
   "name": "python",
   "nbconvert_exporter": "python",
   "pygments_lexer": "ipython3",
   "version": "3.9.7"
  }
 },
 "nbformat": 4,
 "nbformat_minor": 5
}
